{
 "cells": [
  {
   "cell_type": "code",
   "execution_count": 1,
   "metadata": {},
   "outputs": [],
   "source": [
    "import numpy as np\n",
    "import pandas as pd\n",
    "import matplotlib.pyplot as plt\n",
    "\n",
    "import yaml\n",
    "import h5py\n",
    "import os\n",
    "import datetime\n",
    "import gc\n",
    "from tqdm import tqdm\n",
    "\n",
    "from torch.utils.data import Dataset"
   ]
  },
  {
   "cell_type": "code",
   "execution_count": 2,
   "metadata": {},
   "outputs": [],
   "source": [
    "path_uplink = \"../DeepMIMO/DeepMIMO Dataset/DeepMIMO_dataset_I_2p4_1_ofdm_128_yant.mat\"\n",
    "path_downlink = \"../DeepMIMO/DeepMIMO Dataset/DeepMIMO_dataset_I_2p5_1_ofdm_128_yant.mat\"\n",
    "\n",
    "path_to_uplink_npy = \"../DeepMIMO/DeepMIMO Dataset/dataset_I_2p4_1_ofdm_128_yant\"\n",
    "path_to_downlink_npy = \"../DeepMIMO/DeepMIMO Dataset/dataset_I_2p5_1_ofdm_128_yant\"\n",
    "\n",
    "f_uplink = h5py.File(path_uplink, 'r')\n",
    "f_downlink = h5py.File(path_downlink, 'r')"
   ]
  },
  {
   "cell_type": "code",
   "execution_count": 3,
   "metadata": {},
   "outputs": [],
   "source": [
    "class DeepMIMODatasetForUPA(Dataset):\n",
    "    def __init__(self, f1, f2, user_indices=None, is_location=False):\n",
    "        \"\"\"\n",
    "        params: f1: A h5py file object for uplink.\n",
    "                f2: A h5py file object for downlink.\n",
    "                indices: indices of users that will be inculded\n",
    "                         None means all users.\n",
    "        Returns: Dictionary containing 'uplink' and 'downlink' as keys\n",
    "                uplink: contains list where each element represents channel gain for specific basestation\n",
    "                downlink: contains list where each element represents channel gain for specific basestation\n",
    "        \"\"\"\n",
    "        self.f_uplink = f1\n",
    "        self.f_downlink = f2\n",
    "        self.user_indices = user_indices\n",
    "        self.bs_data_uplink = self.f_uplink['DeepMIMO_dataset']      # 'DeepMIMO_dataset' is the default key.\n",
    "        self.bs_data_downlink = self.f_downlink['DeepMIMO_dataset']\n",
    "        self.num_active_bs_uplink, _ = self.bs_data_uplink.shape\n",
    "        self.num_active_bs_downlink, _ = self.bs_data_downlink.shape\n",
    "        self.is_location = is_location\n",
    "    \n",
    "    def __len__(self):\n",
    "        if self.user_indices is None:\n",
    "            return self.f_uplink[self.bs_data_uplink[0][0]]['user'].shape[0]    # returns number of users.\n",
    "        else:\n",
    "            return len(self.user_indices)\n",
    "    \n",
    "    def __getitem__(self, index):\n",
    "        # for uplink\n",
    "        specific_user_data_uplink = []\n",
    "        for active_bs_index in range(self.num_active_bs_uplink):\n",
    "            data_uplink_per_bs = []\n",
    "            user_data = self.f_uplink[self.bs_data_uplink[active_bs_index][0]]['user']\n",
    "            channel_data = self.f_uplink[user_data[index][0]]['channel'] # ** code debug **\n",
    "            num_carriers, num_ant = channel_data.shape\n",
    "            for ant_index in range(num_ant):\n",
    "                channel_gain = channel_data[0][ant_index][0] + channel_data[0][ant_index][1]*1j\n",
    "                data_uplink_per_bs.append(channel_gain)\n",
    "            specific_user_data_uplink.append(data_uplink_per_bs)\n",
    "        specific_user_data_uplink = np.array(specific_user_data_uplink)\n",
    "        \n",
    "        # for downlink\n",
    "        specific_user_data_downlink = []\n",
    "        for active_bs_index in range(self.num_active_bs_downlink):\n",
    "            data_downlink_per_bs = []\n",
    "            user_data = self.f_downlink[self.bs_data_downlink[active_bs_index][0]]['user']\n",
    "            channel_data = self.f_downlink[user_data[index][0]]['channel'] # ** code debug **\n",
    "            num_carriers, num_ant = channel_data.shape\n",
    "            for ant_index in range(num_ant):\n",
    "                channel_gain = channel_data[0][ant_index][0] + channel_data[0][ant_index][1]*1j\n",
    "                data_downlink_per_bs.append(channel_gain)\n",
    "            specific_user_data_downlink.append(data_downlink_per_bs)\n",
    "        specific_user_data_downlink = np.array(specific_user_data_downlink)\n",
    "        \n",
    "        return {\"uplink\": specific_user_data_uplink, \"downlink\": specific_user_data_downlink}"
   ]
  },
  {
   "cell_type": "code",
   "execution_count": 4,
   "metadata": {},
   "outputs": [],
   "source": [
    "dataset = DeepMIMODatasetForUPA(f_uplink, f_downlink)"
   ]
  },
  {
   "cell_type": "code",
   "execution_count": 5,
   "metadata": {},
   "outputs": [
    {
     "name": "stderr",
     "output_type": "stream",
     "text": [
      "100%|██████████| 151402/151402 [4:51:32<00:00,  9.46it/s]  \n"
     ]
    }
   ],
   "source": [
    "num_users = len(dataset)\n",
    "uplink_dim = (num_users,128*2)\n",
    "downlink_dim = (num_users,128*2)\n",
    "\n",
    "uplink_channel_gain = np.zeros(uplink_dim)\n",
    "downlink_channel_gain = np.zeros(downlink_dim)\n",
    "\n",
    "for i in tqdm(range(num_users), total=num_users):\n",
    "    x = dataset[i]\n",
    "    uplink_channel_gain[i,:] = np.hstack((x['uplink'].real, x['uplink'].imag))\n",
    "    downlink_channel_gain[i,:] = np.hstack((x['downlink'].real, x['downlink'].imag))"
   ]
  },
  {
   "cell_type": "code",
   "execution_count": 6,
   "metadata": {
    "scrolled": true
   },
   "outputs": [
    {
     "name": "stdout",
     "output_type": "stream",
     "text": [
      "CPU times: user 63.7 ms, sys: 337 ms, total: 400 ms\n",
      "Wall time: 588 ms\n"
     ]
    }
   ],
   "source": [
    "%%time\n",
    "np.save(path_to_uplink_npy, uplink_channel_gain)\n",
    "np.save(path_to_downlink_npy, downlink_channel_gain)"
   ]
  },
  {
   "cell_type": "code",
   "execution_count": null,
   "metadata": {},
   "outputs": [],
   "source": []
  }
 ],
 "metadata": {
  "kernelspec": {
   "display_name": "Python 3",
   "language": "python",
   "name": "python3"
  },
  "language_info": {
   "codemirror_mode": {
    "name": "ipython",
    "version": 3
   },
   "file_extension": ".py",
   "mimetype": "text/x-python",
   "name": "python",
   "nbconvert_exporter": "python",
   "pygments_lexer": "ipython3",
   "version": "3.7.3"
  }
 },
 "nbformat": 4,
 "nbformat_minor": 2
}
