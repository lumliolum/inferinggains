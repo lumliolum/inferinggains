{
 "cells": [
  {
   "cell_type": "code",
   "execution_count": 1,
   "metadata": {},
   "outputs": [],
   "source": [
    "import h5py\n",
    "import numpy as np\n",
    "import sys\n",
    "sys.path.insert(0,\"../DeepMIMO/\")\n",
    "\n",
    "from train import nmse, ifft_transform, reconstruction, construction"
   ]
  },
  {
   "cell_type": "code",
   "execution_count": 2,
   "metadata": {},
   "outputs": [],
   "source": [
    "uplink_path = \"../DeepMIMO/DeepMIMO Dataset/dataset_I_2p4_64_ofdm_seperate_bs.npy\"\n",
    "downlink_path = \"../DeepMIMO/DeepMIMO Dataset/dataset_I_2p5_64_ofdm_seperate_bs.npy\"\n",
    "locations_path = \"../DeepMIMO/DeepMIMO Dataset/location_dataset_I_2p4.npy\"\n",
    "c = 3e8  # in m/s.\n",
    "Fs = 0.02e9 # in Hz or 0.02 GHz.\n",
    "Ts = 1/Fs  # sampling time is 1/sampling frequency.\n",
    "uplink_freq = 2.4e9 # 2.4 GHz\n",
    "downlink_freq = 2.5e9 # 2.5 GHz\n",
    "num_bs = 4\n",
    "bs_index = 0 # first basestation that is 3"
   ]
  },
  {
   "cell_type": "code",
   "execution_count": 3,
   "metadata": {
    "scrolled": true
   },
   "outputs": [
    {
     "data": {
      "text/plain": [
       "[0, 4, 8, 12, 16, 20, 24, 28]"
      ]
     },
     "execution_count": 3,
     "metadata": {},
     "output_type": "execute_result"
    }
   ],
   "source": [
    "[bs_index+num_bs*i for i in range(32//4)]"
   ]
  },
  {
   "cell_type": "code",
   "execution_count": 4,
   "metadata": {},
   "outputs": [
    {
     "name": "stdout",
     "output_type": "stream",
     "text": [
      "(151402, 64) (151402, 64) (151402,)\n"
     ]
    }
   ],
   "source": [
    "all_uplink_data = np.load(uplink_path)\n",
    "all_downlink_data = np.load(downlink_path)\n",
    "all_location_data = np.load(locations_path)\n",
    "num_rows, _= all_uplink_data.shape\n",
    "\n",
    "# take all the data for basestation with index bs_index\n",
    "bs_data_index = [bs_index + num_bs*i for i in range(num_rows//num_bs)] # stores the required indices\n",
    "\n",
    "uplink_data = all_uplink_data[bs_data_index]\n",
    "downlink_data = all_downlink_data[bs_data_index]\n",
    "location_data = all_location_data[bs_data_index]\n",
    "\n",
    "# converting to time domain\n",
    "uplink = ifft_transform(reconstruction(uplink_data))\n",
    "downlink = ifft_transform(reconstruction(downlink_data))\n",
    "location_distances = np.linalg.norm(location_data, axis=1)\n",
    "num_users, num_samples = uplink.shape\n",
    "print(uplink.shape, downlink.shape,location_distances.shape)"
   ]
  },
  {
   "cell_type": "code",
   "execution_count": 5,
   "metadata": {},
   "outputs": [
    {
     "name": "stdout",
     "output_type": "stream",
     "text": [
      "(151402, 64)\n"
     ]
    }
   ],
   "source": [
    "# calculating the multipler in the formulae.\n",
    "time_index = np.arange(num_samples)\n",
    "multiplier = (np.zeros(uplink.shape) + np.expand_dims(location_distances, axis=1)/c) + \\\n",
    "                np.expand_dims(time_index*Ts, axis=0)\n",
    "multipler = np.exp(-(1j*2*np.pi*(downlink_freq - uplink_freq)*multiplier))\n",
    "print(multiplier.shape)"
   ]
  },
  {
   "cell_type": "code",
   "execution_count": 6,
   "metadata": {},
   "outputs": [
    {
     "name": "stdout",
     "output_type": "stream",
     "text": [
      "(151402, 64)\n"
     ]
    }
   ],
   "source": [
    "dowlink_prediction = uplink*multipler\n",
    "print(dowlink_prediction.shape)"
   ]
  },
  {
   "cell_type": "code",
   "execution_count": 7,
   "metadata": {},
   "outputs": [
    {
     "name": "stdout",
     "output_type": "stream",
     "text": [
      "The nmse of the benchmark is 1.3448066592138297\n"
     ]
    }
   ],
   "source": [
    "print(\"The nmse of the benchmark is\",nmse(downlink, dowlink_prediction))"
   ]
  }
 ],
 "metadata": {
  "kernelspec": {
   "display_name": "Python 3",
   "language": "python",
   "name": "python3"
  },
  "language_info": {
   "codemirror_mode": {
    "name": "ipython",
    "version": 3
   },
   "file_extension": ".py",
   "mimetype": "text/x-python",
   "name": "python",
   "nbconvert_exporter": "python",
   "pygments_lexer": "ipython3",
   "version": "3.7.3"
  }
 },
 "nbformat": 4,
 "nbformat_minor": 2
}