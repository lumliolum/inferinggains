{
 "cells": [
  {
   "cell_type": "code",
   "execution_count": 1,
   "metadata": {},
   "outputs": [],
   "source": [
    "import numpy as np\n",
    "import pandas as pd\n",
    "\n",
    "import os\n",
    "import gc\n",
    "from scipy.io import loadmat\n",
    "\n",
    "# normalized mean squared error\n",
    "def nmse(y_true, y_pred):\n",
    "    \"\"\"\n",
    "    params: y_true: numpy array of shape (m,n)\n",
    "            y_pred: numpy array of shape (m,n)\n",
    "    \"\"\"\n",
    "    return np.mean(np.linalg.norm(y_true-y_pred, 2, axis=1)**2/np.linalg.norm(y_true, 2, axis=1)**2)"
   ]
  },
  {
   "cell_type": "code",
   "execution_count": 2,
   "metadata": {},
   "outputs": [
    {
     "name": "stdout",
     "output_type": "stream",
     "text": [
      "(151402, 128) (151402, 128)\n"
     ]
    }
   ],
   "source": [
    "input_path = \"../DeepMIMO/DeepMIMO Dataset/dataset_I_2p4_128_xant_num_paths_1.mat\"\n",
    "output_path = \"../DeepMIMO/DeepMIMO Dataset/dataset_I_2p5_128_xant_num_paths_1.mat\"\n",
    "\n",
    "uplink_data = loadmat(input_path)['channelgains']\n",
    "downlink_data = loadmat(output_path)['channelgains']\n",
    "print(uplink_data.shape,downlink_data.shape)"
   ]
  },
  {
   "cell_type": "code",
   "execution_count": 3,
   "metadata": {},
   "outputs": [
    {
     "name": "stdout",
     "output_type": "stream",
     "text": [
      "(151402, 128)\n"
     ]
    },
    {
     "data": {
      "text/plain": [
       "1.9249566359208463"
      ]
     },
     "execution_count": 3,
     "metadata": {},
     "output_type": "execute_result"
    }
   ],
   "source": [
    "K = 64\n",
    "num_paths = 1\n",
    "ful = 2.4e9\n",
    "fdl = 2.5e9\n",
    "bw = 0.02e9\n",
    "\n",
    "## 2piB*tau/K = angle\n",
    "tau = K*np.angle(uplink_data[:,0])/(2*np.pi*bw)\n",
    "# the expression is np.exp(j*2pi(delta f)*tau)\n",
    "multiplying_factor = np.expand_dims(np.exp(1j*2*np.pi*(fdl-ful)*tau),1) # expand dims for shape mismatch \n",
    "estimated_downlink_data = (uplink_data)*(multiplying_factor)           \n",
    "print(estimated_downlink_data.shape)\n",
    "nmse(downlink_data,estimated_downlink_data)"
   ]
  },
  {
   "cell_type": "code",
   "execution_count": null,
   "metadata": {},
   "outputs": [],
   "source": []
  },
  {
   "cell_type": "code",
   "execution_count": null,
   "metadata": {},
   "outputs": [],
   "source": []
  }
 ],
 "metadata": {
  "kernelspec": {
   "display_name": "Python 3",
   "language": "python",
   "name": "python3"
  },
  "language_info": {
   "codemirror_mode": {
    "name": "ipython",
    "version": 3
   },
   "file_extension": ".py",
   "mimetype": "text/x-python",
   "name": "python",
   "nbconvert_exporter": "python",
   "pygments_lexer": "ipython3",
   "version": "3.7.3"
  }
 },
 "nbformat": 4,
 "nbformat_minor": 2
}
